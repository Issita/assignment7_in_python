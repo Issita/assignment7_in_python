{
 "cells": [
  {
   "cell_type": "code",
   "execution_count": 1,
   "id": "77dd4b44-a02a-45f7-97a0-2400b7d772bc",
   "metadata": {},
   "outputs": [
    {
     "data": {
      "text/plain": [
       "'you are writing for a company. The requirement of the company is that you create a python function that will check whether the password entered by the user is correct or not. The function should take the password as input and return the string \"Valid password\" if the entered password follows the below-given password guidelines else it should return \"Invalid Password\"\\n1. The password should contain at last two uppercase letters and at least two lowercase letters.\\n2. the password should contain at least a number and three special characters.\\n3. the length of the password should be 10 characters long. '"
      ]
     },
     "execution_count": 1,
     "metadata": {},
     "output_type": "execute_result"
    }
   ],
   "source": [
    "\"\"\"you are writing for a company. The requirement of the company is that you create a python function that will check whether the password entered by the user is correct or not. The function should take the password as input and return the string \"Valid password\" if the entered password follows the below-given password guidelines else it should return \"Invalid Password\"\n",
    "1. The password should contain at last two uppercase letters and at least two lowercase letters.\n",
    "2. the password should contain at least a number and three special characters.\n",
    "3. the length of the password should be 10 characters long. \"\"\""
   ]
  },
  {
   "cell_type": "code",
   "execution_count": 2,
   "id": "5538a6aa-f9a4-41b8-86f1-6f8d10bcf766",
   "metadata": {},
   "outputs": [
    {
     "name": "stdin",
     "output_type": "stream",
     "text": [
      " IIss678#$%\n"
     ]
    },
    {
     "name": "stdout",
     "output_type": "stream",
     "text": [
      "Valid Password\n"
     ]
    }
   ],
   "source": [
    "import re \n",
    "def is_valid_password(password):\n",
    "    uppercase_count = len(re.findall(\"[A-Z]\", password)) \n",
    "    lowercase_count = len(re.findall(\"[a-z]\", password)) \n",
    "    special_char_count = len(re.findall(\"[!@#$%^&*()_+{}:\\\"<>?]\", password)) \n",
    "    number_count = len(re.findall(\"[0-9]\", password)) \n",
    "    if len(password) != 10: \n",
    "        return \"Invalid Password\" \n",
    "    if uppercase_count < 2 or lowercase_count < 2 or special_char_count < 3 or number_count < 1: \n",
    "        return \"Invalid Password\" \n",
    "    return \"Valid Password\"\n",
    "userInput = (input())\n",
    "print(is_valid_password(userInput))"
   ]
  },
  {
   "cell_type": "code",
   "execution_count": null,
   "id": "5fc2d21c-d682-4152-bef9-dd89c364eb9d",
   "metadata": {},
   "outputs": [],
   "source": []
  },
  {
   "cell_type": "code",
   "execution_count": 3,
   "id": "cc09064b-b80d-4802-aee6-721a23c72eb4",
   "metadata": {},
   "outputs": [],
   "source": [
    "#Check if the string starts with a perticular letter"
   ]
  },
  {
   "cell_type": "code",
   "execution_count": 4,
   "id": "fd452033-60e7-469f-875f-92458a513483",
   "metadata": {},
   "outputs": [],
   "source": [
    "check = lambda string, letter : string.startswith(letter)"
   ]
  },
  {
   "cell_type": "code",
   "execution_count": 5,
   "id": "c46783d0-e3fb-408c-b91b-daf084ccada1",
   "metadata": {},
   "outputs": [
    {
     "name": "stdout",
     "output_type": "stream",
     "text": [
      "True\n"
     ]
    }
   ],
   "source": [
    "print(check(\"ishu\",\"i\"))"
   ]
  },
  {
   "cell_type": "code",
   "execution_count": 6,
   "id": "77b8d8ed-78d9-4d63-8cdd-cd84df4f2140",
   "metadata": {},
   "outputs": [],
   "source": [
    "strings = [\"ishu\",\"jerry\",\"lsha\",\"akhsar\"]\n",
    "letter = \"i\"\n",
    "start_with_a_perticular_letter =[i for i in strings if i.startswith(letter)]"
   ]
  },
  {
   "cell_type": "code",
   "execution_count": 7,
   "id": "d394b4bf-c920-4dd7-b0cd-43363f10703f",
   "metadata": {},
   "outputs": [
    {
     "name": "stdout",
     "output_type": "stream",
     "text": [
      "['ishu']\n"
     ]
    }
   ],
   "source": [
    "print(start_with_a_perticular_letter)"
   ]
  },
  {
   "cell_type": "code",
   "execution_count": null,
   "id": "950ca71b-9c2c-436a-a585-60c22b7e01d6",
   "metadata": {},
   "outputs": [],
   "source": []
  },
  {
   "cell_type": "code",
   "execution_count": 8,
   "id": "f409976f-bc99-45d1-9c7d-748fe4d0d738",
   "metadata": {},
   "outputs": [],
   "source": [
    "#check if the string is numeric"
   ]
  },
  {
   "cell_type": "code",
   "execution_count": 9,
   "id": "f09a94ae-72da-4b94-8969-425001a9fa1c",
   "metadata": {},
   "outputs": [
    {
     "name": "stdout",
     "output_type": "stream",
     "text": [
      "True\n"
     ]
    }
   ],
   "source": [
    "string = \"12345\"\n",
    "check1 = lambda num : num.isdigit()\n",
    "result = check1(string)\n",
    "print(result)"
   ]
  },
  {
   "cell_type": "code",
   "execution_count": 13,
   "id": "e6bf57c2-441d-4ea0-81de-344197e6c7a1",
   "metadata": {},
   "outputs": [
    {
     "name": "stdout",
     "output_type": "stream",
     "text": [
      "False\n"
     ]
    }
   ],
   "source": [
    "string1 = \"ABX234\"\n",
    "is_numeric = list(map(str.isdigit, string1)) \n",
    "result = all(is_numeric) \n",
    "print(result) "
   ]
  },
  {
   "cell_type": "code",
   "execution_count": null,
   "id": "a50e375b-0e38-4452-ae5e-2d47bedef8b6",
   "metadata": {},
   "outputs": [],
   "source": []
  },
  {
   "cell_type": "code",
   "execution_count": 14,
   "id": "ab4f1ade-9d8a-4a1b-9384-f8637e8a5ca0",
   "metadata": {},
   "outputs": [],
   "source": [
    "#sort a list of tuple having fruit names and their quantity.\n",
    "#[(\"mango\",99),(\"orange\",80),(\"grapes\",1000)]\n"
   ]
  },
  {
   "cell_type": "code",
   "execution_count": 24,
   "id": "6fb5afd2-dd0c-4e36-96f2-e65ce118eea0",
   "metadata": {},
   "outputs": [],
   "source": [
    "fruit = [(\"mango\",99),(\"orange\",80),(\"grapes\",1000)]\n",
    "sorted_fruits = sorted(fruit, key = lambda x : x[1])"
   ]
  },
  {
   "cell_type": "code",
   "execution_count": 25,
   "id": "98eba1a4-9e40-4a04-9227-0b8228618fac",
   "metadata": {},
   "outputs": [
    {
     "name": "stdout",
     "output_type": "stream",
     "text": [
      "[('orange', 80), ('mango', 99), ('grapes', 1000)]\n"
     ]
    }
   ],
   "source": [
    "result_fruit= (sorted_fruits)\n",
    "print(result_fruit)"
   ]
  },
  {
   "cell_type": "code",
   "execution_count": 26,
   "id": "93961d75-7477-4ce4-8dd8-72468af57f07",
   "metadata": {},
   "outputs": [
    {
     "name": "stdout",
     "output_type": "stream",
     "text": [
      "[('orange', 80), ('mango', 99), ('grapes', 1000)]\n"
     ]
    }
   ],
   "source": [
    "print(sorted_fruits)"
   ]
  },
  {
   "cell_type": "code",
   "execution_count": null,
   "id": "16545750-ffbd-4373-8341-a575901d00d9",
   "metadata": {},
   "outputs": [],
   "source": []
  },
  {
   "cell_type": "code",
   "execution_count": 27,
   "id": "99d537a9-2132-439f-a692-a981757618c5",
   "metadata": {},
   "outputs": [],
   "source": [
    "# find the squares of number from 1 to 10"
   ]
  },
  {
   "cell_type": "code",
   "execution_count": 34,
   "id": "0e6d77b4-821d-40eb-b819-88b93e4fa4ab",
   "metadata": {},
   "outputs": [],
   "source": [
    "check_square = [(lambda x: x**2) (i) for i in range(1,11) ]"
   ]
  },
  {
   "cell_type": "code",
   "execution_count": 35,
   "id": "a62b5259-96f8-4bab-b64b-583e27d68af8",
   "metadata": {},
   "outputs": [
    {
     "name": "stdout",
     "output_type": "stream",
     "text": [
      "[1, 4, 9, 16, 25, 36, 49, 64, 81, 100]\n"
     ]
    }
   ],
   "source": [
    "print(check_square)"
   ]
  },
  {
   "cell_type": "code",
   "execution_count": 36,
   "id": "2146776e-9ced-41a5-a3d1-88883580918e",
   "metadata": {},
   "outputs": [],
   "source": [
    "square = list(map(lambda x : x**2, range(1,11)))"
   ]
  },
  {
   "cell_type": "code",
   "execution_count": 37,
   "id": "994373da-92ef-4a74-abb1-070205dec59a",
   "metadata": {},
   "outputs": [
    {
     "name": "stdout",
     "output_type": "stream",
     "text": [
      "[1, 4, 9, 16, 25, 36, 49, 64, 81, 100]\n"
     ]
    }
   ],
   "source": [
    "print(square)"
   ]
  },
  {
   "cell_type": "code",
   "execution_count": null,
   "id": "04e1de09-ccfc-4bfb-8a5f-1c5d4c525fe1",
   "metadata": {},
   "outputs": [],
   "source": []
  },
  {
   "cell_type": "code",
   "execution_count": 38,
   "id": "e7da3850-78f4-457e-9900-ee9070c0282b",
   "metadata": {},
   "outputs": [],
   "source": [
    "# find the cube root of number from 1 ton 100"
   ]
  },
  {
   "cell_type": "code",
   "execution_count": 40,
   "id": "0f8c0824-0ffc-4f8f-825f-5fed578c2628",
   "metadata": {},
   "outputs": [],
   "source": [
    "cube_root = list(map(lambda x: x**3, range(1,11)))"
   ]
  },
  {
   "cell_type": "code",
   "execution_count": 41,
   "id": "4344c24a-1543-46fd-b8b8-b098798807c1",
   "metadata": {},
   "outputs": [
    {
     "name": "stdout",
     "output_type": "stream",
     "text": [
      "[1, 8, 27, 64, 125, 216, 343, 512, 729, 1000]\n"
     ]
    }
   ],
   "source": [
    "print(cube_root)"
   ]
  },
  {
   "cell_type": "code",
   "execution_count": null,
   "id": "94d2506c-4bc3-4589-84cb-52662a2af3eb",
   "metadata": {},
   "outputs": [],
   "source": []
  },
  {
   "cell_type": "code",
   "execution_count": 42,
   "id": "6d327f10-b74b-44d9-aec8-ef7679ae1147",
   "metadata": {},
   "outputs": [],
   "source": [
    "# check if a given number is even"
   ]
  },
  {
   "cell_type": "code",
   "execution_count": 49,
   "id": "c3dfa0a2-6d3a-4a0a-9826-ab020e871582",
   "metadata": {},
   "outputs": [
    {
     "name": "stdin",
     "output_type": "stream",
     "text": [
      " 20\n"
     ]
    },
    {
     "name": "stdout",
     "output_type": "stream",
     "text": [
      "True\n"
     ]
    }
   ],
   "source": [
    "num= int(input())\n",
    "even_number = lambda x : x%2==0 \n",
    "print(even_number(num))"
   ]
  },
  {
   "cell_type": "code",
   "execution_count": 56,
   "id": "7e94003a-4f3d-4bc7-84b3-b229174be6f3",
   "metadata": {},
   "outputs": [
    {
     "name": "stdout",
     "output_type": "stream",
     "text": [
      "[8, 80]\n"
     ]
    }
   ],
   "source": [
    "num_list= [1,3,5,7,8,80]\n",
    "even_num = [i for i in num_list if i%2==0]\n",
    "print(even_num)"
   ]
  },
  {
   "cell_type": "code",
   "execution_count": null,
   "id": "cd0e6b6e-40df-45e6-b2e8-c60ec5c2aec2",
   "metadata": {},
   "outputs": [],
   "source": []
  },
  {
   "cell_type": "code",
   "execution_count": 57,
   "id": "9710a103-20f3-4d61-8b10-057cdcb258be",
   "metadata": {},
   "outputs": [],
   "source": [
    "# Filter odd number from the given list\n",
    "# [1,2,3,4,5,6,7,8,9,10]\n"
   ]
  },
  {
   "cell_type": "code",
   "execution_count": 58,
   "id": "631872a5-b53a-4bfd-b403-d7985dbb7812",
   "metadata": {},
   "outputs": [],
   "source": [
    "list_num = [1,2,3,4,5,6,7,8,9,10]\n",
    "odd_list = list(filter(lambda x: x%2 != 0, list_num))"
   ]
  },
  {
   "cell_type": "code",
   "execution_count": 59,
   "id": "07859bfd-71a1-41a5-aebc-da380a216950",
   "metadata": {},
   "outputs": [
    {
     "name": "stdout",
     "output_type": "stream",
     "text": [
      "[1, 3, 5, 7, 9]\n"
     ]
    }
   ],
   "source": [
    "print(odd_list)"
   ]
  },
  {
   "cell_type": "code",
   "execution_count": null,
   "id": "6c3890ce-3cd7-46aa-a817-9866c1b88c75",
   "metadata": {},
   "outputs": [],
   "source": []
  },
  {
   "cell_type": "code",
   "execution_count": 60,
   "id": "940b8888-2b06-4148-acbd-ae1438e9490c",
   "metadata": {},
   "outputs": [],
   "source": [
    "#sort a list of integers into positive and negative integers list"
   ]
  },
  {
   "cell_type": "code",
   "execution_count": 69,
   "id": "8299bda7-70b4-49fe-9d0f-63b04025beca",
   "metadata": {},
   "outputs": [
    {
     "name": "stdout",
     "output_type": "stream",
     "text": [
      "[1, 2, 3, 4, 5, 6, 0]\n",
      "[-1, -2, -3, -4, -5]\n"
     ]
    }
   ],
   "source": [
    "l = [1,2,3,4,5,6,-1,-2,-3,-4,-5,0]\n",
    "positive_integer_list = list(filter(lambda x : x>=0 ,l ))\n",
    "negative_integer_list = list(filter(lambda y : y<0, l))\n",
    "print(positive_integer_list)\n",
    "print(negative_integer_list)"
   ]
  },
  {
   "cell_type": "code",
   "execution_count": 71,
   "id": "1dd84153-4cfc-4bba-b0bb-841c9977f79e",
   "metadata": {},
   "outputs": [
    {
     "name": "stdout",
     "output_type": "stream",
     "text": [
      "[1, 2, 3, 4, 5, 6, 0]\n",
      "[-1, -2, -3, -4, -5]\n"
     ]
    }
   ],
   "source": [
    "positive_num = [i for i in l if i >=0  ]\n",
    "negative_num = [i for i in l if i <0  ]\n",
    "print(positive_num)\n",
    "print(negative_num)"
   ]
  },
  {
   "cell_type": "code",
   "execution_count": null,
   "id": "4a812ef4-dffb-4c33-ad4a-fae9713e06bc",
   "metadata": {},
   "outputs": [],
   "source": []
  }
 ],
 "metadata": {
  "kernelspec": {
   "display_name": "Python 3 (ipykernel)",
   "language": "python",
   "name": "python3"
  },
  "language_info": {
   "codemirror_mode": {
    "name": "ipython",
    "version": 3
   },
   "file_extension": ".py",
   "mimetype": "text/x-python",
   "name": "python",
   "nbconvert_exporter": "python",
   "pygments_lexer": "ipython3",
   "version": "3.10.8"
  }
 },
 "nbformat": 4,
 "nbformat_minor": 5
}
